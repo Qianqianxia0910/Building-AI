{
 "cells": [
  {
   "cell_type": "code",
   "execution_count": null,
   "id": "4e4629f0",
   "metadata": {},
   "outputs": [],
   "source": [
    "#optimization\n",
    "ports = [Panama, New York, Casablanca, Amsterdam, Helsinki]\n",
    "#枚举 enumerate\n",
    "#brute force蛮力解决法 遍历所有解决方案\n"
   ]
  },
  {
   "cell_type": "code",
   "execution_count": 6,
   "id": "b63bae90",
   "metadata": {
    "scrolled": true
   },
   "outputs": [
    {
     "name": "stdout",
     "output_type": "stream",
     "text": [
      "PAN AMS CAS NYC HEL 504.5 kg\n",
      "distance: 25223\n",
      "route: [0, 1, 2, 3, 4]\n",
      "PAN AMS CAS HEL NYC 486.5 kg\n",
      "distance: 24326\n",
      "route: [0, 1, 2, 4, 3]\n",
      "PAN AMS NYC CAS HEL 520.7 kg\n",
      "distance: 26035\n",
      "route: [0, 1, 3, 2, 4]\n",
      "PAN AMS NYC HEL CAS 560.5 kg\n",
      "distance: 28024\n",
      "route: [0, 1, 3, 4, 2]\n",
      "PAN AMS HEL CAS NYC 435.9 kg\n",
      "distance: 21796\n",
      "route: [0, 1, 4, 2, 3]\n",
      "PAN AMS HEL NYC CAS 493.6 kg\n",
      "distance: 24682\n",
      "route: [0, 1, 4, 3, 2]\n",
      "PAN CAS AMS NYC HEL 495.6 kg\n",
      "distance: 24780\n",
      "route: [0, 2, 1, 3, 4]\n",
      "PAN CAS AMS HEL NYC 410.8 kg\n",
      "distance: 20541\n",
      "route: [0, 2, 1, 4, 3]\n",
      "PAN CAS NYC AMS HEL 445.0 kg\n",
      "distance: 22250\n",
      "route: [0, 2, 3, 1, 4]\n",
      "PAN CAS NYC HEL AMS 475.2 kg\n",
      "distance: 23758\n",
      "route: [0, 2, 3, 4, 1]\n",
      "PAN CAS HEL AMS NYC 427.1 kg\n",
      "distance: 21353\n",
      "route: [0, 2, 4, 1, 3]\n",
      "PAN CAS HEL NYC AMS 542.0 kg\n",
      "distance: 27100\n",
      "route: [0, 2, 4, 3, 1]\n",
      "PAN NYC AMS CAS HEL 350.5 kg\n",
      "distance: 17527\n",
      "route: [0, 3, 1, 2, 4]\n",
      "PAN NYC AMS HEL CAS 339.7 kg\n",
      "distance: 16986\n",
      "route: [0, 3, 1, 4, 2]\n",
      "PAN NYC CAS AMS HEL 283.7 kg\n",
      "distance: 14185\n",
      "route: [0, 3, 2, 1, 4]\n",
      "PAN NYC CAS HEL AMS 330.1 kg\n",
      "distance: 16505\n",
      "route: [0, 3, 2, 4, 1]\n",
      "PAN NYC HEL AMS CAS 323.5 kg\n",
      "distance: 16174\n",
      "route: [0, 3, 4, 1, 2]\n",
      "PAN NYC HEL CAS AMS 380.7 kg\n",
      "distance: 19035\n",
      "route: [0, 3, 4, 2, 1]\n",
      "PAN HEL AMS CAS NYC 421.6 kg\n",
      "distance: 21078\n",
      "route: [0, 4, 1, 2, 3]\n",
      "PAN HEL AMS NYC CAS 495.5 kg\n",
      "distance: 24776\n",
      "route: [0, 4, 1, 3, 2]\n",
      "PAN HEL CAS AMS NYC 488.4 kg\n",
      "distance: 24420\n",
      "route: [0, 4, 2, 1, 3]\n",
      "PAN HEL CAS NYC AMS 552.7 kg\n",
      "distance: 27637\n",
      "route: [0, 4, 2, 3, 1]\n",
      "PAN HEL NYC AMS CAS 546.1 kg\n",
      "distance: 27306\n",
      "route: [0, 4, 3, 1, 2]\n",
      "PAN HEL NYC CAS AMS 536.5 kg\n",
      "distance: 26825\n",
      "route: [0, 4, 3, 2, 1]\n"
     ]
    }
   ],
   "source": [
    "def main():\n",
    "    portnames = [\"PAN\", \"AMS\", \"CAS\", \"NYC\", \"HEL\"]\n",
    "    port1 = 0\n",
    "    for port2 in range(1, 5):\n",
    "        for port3 in range(1, 5):\n",
    "            for port4 in range(1, 5):\n",
    "                for port5 in range(1, 5):\n",
    "                    route = [port1, port2, port3, port4, port5]\n",
    "                    if 1 in route and 2 in route and 3 in route and 4 in route:\n",
    "                        D = [\n",
    "                            [0,8943,8019,3652,10545],\n",
    "                            [8943,0,2619,6317,2078],\n",
    "                            [8019,2619,0,5836,4939],\n",
    "                            [3652,6317,5836,0,7825],\n",
    "                            [10545,2078,4939,7825,0]\n",
    "                        ]\n",
    "                        co2 = 0.020\n",
    "                        distance = D[route[0]][route[1]] + D[route[1]][route[2]] + D[route[2]][route[3]] + D[route[3]][route[4]]\n",
    "                        emissions = distance * co2\n",
    "                        print(' '.join([portnames[i] for i in route]) + \" %.1f kg\" % emissions)\n",
    "                        print(\"distance:\",distance)\n",
    "                        print(\"route:\",route)\n",
    "\n",
    "main()"
   ]
  },
  {
   "cell_type": "code",
   "execution_count": 13,
   "id": "940b9a0b",
   "metadata": {},
   "outputs": [
    {
     "data": {
      "text/plain": [
       "<function matplotlib.pyplot.show(close=None, block=None)>"
      ]
     },
     "execution_count": 13,
     "metadata": {},
     "output_type": "execute_result"
    },
    {
     "data": {
      "image/png": "[encoded data removed]",
      "text/plain": [
       "<Figure size 432x288 with 1 Axes>"
      ]
     },
     "metadata": {
      "needs_background": "light"
     },
     "output_type": "display_data"
    }
   ],
   "source": [
    "#Exercise 3: Reach the highest summit\n",
    "import math\n",
    "import random\n",
    "import numpy as np\n",
    "import matplotlib.pyplot as plt\n",
    "w = [random.random()/3, random.random()/3, random.random()/3]\n",
    "h = [1.+math.sin(1+x/6.)*w[0]+math.sin(-.3+x/9.)*w[1]+math.sin(-.2+x/30.)*w[2] for x in range(100)]\n",
    "h[0] = 0.0\n",
    "h[99] = 0.0\n",
    "plt.plot(h)\n",
    "plt.show\n",
    "def climb(x, h):\n",
    "    # keep climbing until we've found a summit\n",
    "    summit = False\n",
    "    summit = h[x+1]\n",
    "    x+=1\n",
    "    # edit here\n",
    "    while not summit:\n",
    "        summit = True         # stop unless there's a way up\n",
    "        if h[x + 1] > h[x]:\n",
    "            x = x + 1         # right is higher, go there\n",
    "            summit = False    # and keep going\n",
    "    return x\n",
    "\n",
    "            \n",
    "        "
   ]
  },
  {
   "cell_type": "code",
   "execution_count": 18,
   "id": "6558a985",
   "metadata": {},
   "outputs": [
    {
     "name": "stdout",
     "output_type": "stream",
     "text": [
      "43\n"
     ]
    }
   ],
   "source": [
    "import random\n",
    "x0 = random.randint(1, 98)\n",
    "print(x0)"
   ]
  },
  {
   "cell_type": "code",
   "execution_count": null,
   "id": "8d0c7ed4",
   "metadata": {},
   "outputs": [],
   "source": [
    "def climb(x, h):\n",
    "    # keep climbing until we've found a summit\n",
    "    summit = False\n",
    "\n",
    "    while not summit:\n",
    "        summit = True            # stop unless there's a way up\n",
    "        if h[x + 1] > h[x] and h[x+1]:\n",
    "            x = x + 1            # right is higher, go there\n",
    "            summit = False       # and keep going\n",
    "        elif h[x - 1] > h[x]:\n",
    "            x = x - 1            # left is higher, go there \n",
    "            summit = False       # and keep going\n",
    "    return x"
   ]
  },
  {
   "cell_type": "code",
   "execution_count": 7,
   "id": "ea1d53c7",
   "metadata": {},
   "outputs": [
    {
     "name": "stdout",
     "output_type": "stream",
     "text": [
      "dog\n"
     ]
    }
   ],
   "source": [
    "import random\n",
    "prob = 0.20\n",
    "\n",
    "if random.random() < prob:\n",
    "    print(\"dog\")"
   ]
  },
  {
   "cell_type": "code",
   "execution_count": 20,
   "id": "430d4943",
   "metadata": {},
   "outputs": [
    {
     "name": "stdout",
     "output_type": "stream",
     "text": [
      "0.00012340980408667956\n"
     ]
    }
   ],
   "source": [
    "import numpy as np\n",
    "p = np.exp(-(205 - 196)/1)\n",
    "print(p)"
   ]
  },
  {
   "cell_type": "code",
   "execution_count": 21,
   "id": "d3e6a597",
   "metadata": {},
   "outputs": [
    {
     "ename": "NameError",
     "evalue": "name 'N' is not defined",
     "output_type": "error",
     "traceback": [
      "\u001b[0;31m---------------------------------------------------------------------------\u001b[0m",
      "\u001b[0;31mNameError\u001b[0m                                 Traceback (most recent call last)",
      "Input \u001b[0;32mIn [21]\u001b[0m, in \u001b[0;36m<cell line: 4>\u001b[0;34m()\u001b[0m\n\u001b[1;32m      1\u001b[0m \u001b[38;5;28;01mimport\u001b[39;00m \u001b[38;5;21;01mmatplotlib\u001b[39;00m\u001b[38;5;21;01m.\u001b[39;00m\u001b[38;5;21;01mpyplot\u001b[39;00m \u001b[38;5;28;01mas\u001b[39;00m \u001b[38;5;21;01mplt\u001b[39;00m\n\u001b[1;32m      2\u001b[0m \u001b[38;5;28;01mfrom\u001b[39;00m \u001b[38;5;21;01mmatplotlib\u001b[39;00m \u001b[38;5;28;01mimport\u001b[39;00m cm\n\u001b[0;32m----> 4\u001b[0m plt\u001b[38;5;241m.\u001b[39mxlim(\u001b[38;5;241m0\u001b[39m, \u001b[43mN\u001b[49m\u001b[38;5;241m-\u001b[39m\u001b[38;5;241m1\u001b[39m)\n\u001b[1;32m      5\u001b[0m plt\u001b[38;5;241m.\u001b[39mylim(\u001b[38;5;241m0\u001b[39m, N\u001b[38;5;241m-\u001b[39m\u001b[38;5;241m1\u001b[39m)\n\u001b[1;32m      6\u001b[0m plt\u001b[38;5;241m.\u001b[39mimshow(h, cmap\u001b[38;5;241m=\u001b[39mcm\u001b[38;5;241m.\u001b[39mgist_earth)\n",
      "\u001b[0;31mNameError\u001b[0m: name 'N' is not defined"
     ]
    }
   ],
   "source": [
    "import matplotlib.pyplot as plt\n",
    "from matplotlib import cm\n",
    "\n",
    "plt.xlim(0, N-1)\n",
    "plt.ylim(0, N-1)\n",
    "plt.imshow(h, cmap=cm.gist_earth)\n",
    "plt.scatter([peak_y], [peak_x], color='red', marker='+', s=100)\n",
    "\n",
    "for j in range(tracks):\n",
    "\n",
    "    c = cm.tab20(j/tracks)    # use different colors for different tracks \n",
    "    plt.scatter([y[j]], [x[j]], color=c, s=20)\n",
    "\n",
    "plt.show()\n"
   ]
  },
  {
   "cell_type": "code",
   "execution_count": null,
   "id": "d51e01b0",
   "metadata": {},
   "outputs": [],
   "source": [
    "import random\n",
    "import numpy as np\n",
    "\n",
    "def accept_prob(S_old, S_new, T):\n",
    "    # this is the acceptance \"probability\" in the greedy hill-climbing method\n",
    "    # where new solutions are accepted if and only if they are better\n",
    "    # than the old one.\n",
    "    # change it to be the acceptance probability in simulated annealing\n",
    "\n",
    "    if S_new > S_old:\n",
    "        return 1.0\n",
    "    else:\n",
    "        return np.exp(-(S_old - S_new)/T)\n",
    "\n",
    "\n",
    "# the above function will be used as follows. this is shown just for\n",
    "# your information; you don't have to change anything here\n",
    "def accept(S_old, S_new, T):\n",
    "    if random.random() < accept_prob(S_old, S_new, T):\n",
    "        print(True)\n",
    "    else:\n",
    "        print(False)\n",
    "accept(150,140,5)"
   ]
  },
  {
   "cell_type": "code",
   "execution_count": 25,
   "id": "96957039",
   "metadata": {},
   "outputs": [
    {
     "name": "stdout",
     "output_type": "stream",
     "text": [
      "2\n"
     ]
    }
   ],
   "source": [
    "def count11(seq):\n",
    "    count = 0\n",
    "    for i in range(len(seq)-1):\n",
    "        if seq[i] == seq[i+1] == 1:\n",
    "            count = count + 1\n",
    "    return count\n",
    "\n",
    "print(count11([0, 0, 1, 1, 1, 0])) "
   ]
  },
  {
   "cell_type": "code",
   "execution_count": 31,
   "id": "c518ca42",
   "metadata": {},
   "outputs": [
    {
     "name": "stdout",
     "output_type": "stream",
     "text": [
      "1319\n"
     ]
    }
   ],
   "source": [
    "import numpy as np\n",
    "\n",
    "def generate(p1):\n",
    "    # change this so that it generates 10000 random zeros and ones\n",
    "    # where the probability of one is p1\n",
    "    seq = np.random.choice([0,1], p=[1-p1, p1], size=10000)\n",
    "    return seq\n",
    "\n",
    "def count(seq):\n",
    "    count = 0\n",
    "    for i in range(len(seq)-4):\n",
    "        if seq[i] == seq[i+1] == seq[i+2] == seq[i+3] == seq[i+4] == 1:\n",
    "            count += 1\n",
    "    # insert code to return the number of occurrences of 11111 in the sequence\n",
    "    return count\n",
    "\n",
    "def main(p1):\n",
    "    seq = generate(p1)\n",
    "    return count(seq)\n",
    "\n",
    "print(main(2/3))"
   ]
  },
  {
   "cell_type": "code",
   "execution_count": 34,
   "id": "6f0c3dc1",
   "metadata": {},
   "outputs": [
    {
     "name": "stdout",
     "output_type": "stream",
     "text": [
      "Denmark 0.03%\n",
      "Finland 0.05%\n",
      "Iceland 1.17%\n",
      "Norway 0.23%\n",
      "Sweden 0.02%\n"
     ]
    }
   ],
   "source": [
    "\n",
    "countries = ['Denmark', 'Finland', 'Iceland', 'Norway', 'Sweden']\n",
    "populations = [5615000, 5439000, 324000, 5080000, 9609000]\n",
    "fishers = [1891, 2652, 3800, 11611, 1757]\n",
    "\n",
    "total_fishers = sum(fishers)\n",
    "total_population = sum(populations)\n",
    "   \n",
    "\n",
    "for c,m,n in zip(countries,fishers,populations):\n",
    "    p = m/n\n",
    "    print(\"%s %.2f%%\" % (c,p * 100))"
   ]
  },
  {
   "cell_type": "code",
   "execution_count": 28,
   "id": "6e6d6dfc",
   "metadata": {},
   "outputs": [
    {
     "name": "stdout",
     "output_type": "stream",
     "text": [
      "12.34%\n"
     ]
    }
   ],
   "source": [
    "rate = .1234\n",
    "print('%.2f%%' % (rate * 100))"
   ]
  },
  {
   "cell_type": "code",
   "execution_count": null,
   "id": "79b6a7fd",
   "metadata": {},
   "outputs": [],
   "source": [
    "print(\"%s %.2f%%\" % (country, p))"
   ]
  },
  {
   "cell_type": "code",
   "execution_count": 43,
   "id": "c6c90e29",
   "metadata": {},
   "outputs": [
    {
     "name": "stdout",
     "output_type": "stream",
     "text": [
      "if the winner is male, my guess is he's from Denmark; probability 0.09%\n",
      "if the winner is female, my guess is she's from Denmark; probability 0.08%\n"
     ]
    }
   ],
   "source": [
    "countries = ['Denmark', 'Finland', 'Iceland', 'Norway', 'Sweden']\n",
    "populations = [5615000, 5439000, 324000, 5080000, 9609000]\n",
    "male_fishers = [1822, 2575, 3400, 11291, 1731]\n",
    "female_fishers = [69, 77, 400, 320, 26] \n",
    "\n",
    "\n",
    "\n",
    "def guess(winner_gender):\n",
    "    if winner_gender == 'female':\n",
    "        fishers = female_fishers\n",
    "    else:\n",
    "        fishers = male_fishers\n",
    "    total_fishers = sum(fishers)\n",
    "    \n",
    "    # write your solution here\n",
    "    for c,num in zip(countries,fishers):\n",
    "        p = num/total_fishers\n",
    "        return (c, p)  \n",
    "\n",
    "def main():\n",
    "    country, fraction = guess(\"male\")\n",
    "    print(\"if the winner is male, my guess is he's from %s; probability %.2f%%\" % (country, fraction))\n",
    "    country, fraction = guess(\"female\")\n",
    "    print(\"if the winner is female, my guess is she's from %s; probability %.2f%%\" % (country, fraction))\n",
    "\n",
    "main()"
   ]
  },
  {
   "cell_type": "code",
   "execution_count": 44,
   "id": "57df6362",
   "metadata": {},
   "outputs": [
    {
     "name": "stdout",
     "output_type": "stream",
     "text": [
      "892 20819\n"
     ]
    }
   ],
   "source": [
    "male_fishers = [1822, 2575, 3400, 11291, 1731]\n",
    "female_fishers = [69, 77, 400, 320, 26] \n",
    "f = sum(female_fishers)\n",
    "m = sum(male_fishers)\n",
    "print(f,m)"
   ]
  },
  {
   "cell_type": "code",
   "execution_count": 46,
   "id": "f7a90297",
   "metadata": {},
   "outputs": [
    {
     "name": "stdout",
     "output_type": "stream",
     "text": [
      "Denmark 0.0773542600896861\n",
      "Finland 0.08632286995515695\n",
      "Iceland 0.4484304932735426\n",
      "Norway 0.35874439461883406\n",
      "Sweden 0.02914798206278027\n"
     ]
    }
   ],
   "source": [
    "def guess(winner_gender):\n",
    "    if winner_gender == 'female':\n",
    "        fishers = female_fishers\n",
    "    elif winner_gender == 'male':\n",
    "        fishers = male_fishers\n",
    "    \n",
    "    total_fishers = sum(fishers)\n",
    "    # write your solution here\n",
    "    for c,num in zip(countries,fishers):\n",
    "        p = num/total_fishers\n",
    "        print(c,p)\n",
    "        \n",
    "guess('female')\n"
   ]
  },
  {
   "cell_type": "code",
   "execution_count": 54,
   "id": "3232d607",
   "metadata": {},
   "outputs": [
    {
     "name": "stdout",
     "output_type": "stream",
     "text": [
      "if the winner is male, my guess is he's from Norway; probability 0.54%\n",
      "if the winner is female, my guess is she's from Iceland; probability 0.45%\n"
     ]
    }
   ],
   "source": [
    "countries = ['Denmark', 'Finland', 'Iceland', 'Norway', 'Sweden']\n",
    "populations = [5615000, 5439000, 324000, 5080000, 9609000]\n",
    "male_fishers = [1822, 2575, 3400, 11291, 1731]\n",
    "female_fishers = [69, 77, 400, 320, 26] \n",
    "def guess(winner_gender):\n",
    "    if winner_gender == 'female':\n",
    "        fishers = female_fishers      \n",
    "    elif winner_gender == 'male':\n",
    "        fishers = male_fishers\n",
    "    # write your solution here\n",
    "    guess = None\n",
    "    biggest = 0.0\n",
    "    total_fishers = sum(fishers)\n",
    "    max_index = fishers.index(max(fishers))\n",
    "    guess = countries[max_index] \n",
    "    biggest = fishers[max_index]/total_fishers\n",
    "    return(guess,biggest)\n",
    "def main():\n",
    "    country, fraction = guess(\"male\")\n",
    "    print(\"if the winner is male, my guess is he's from %s; probability %.2f%%\" % (country, fraction * 100))\n",
    "    country, fraction = guess(\"female\")\n",
    "    print(\"if the winner is female, my guess is she's from %s; probability %.2f%%\" % (country, fraction * 100))\n",
    "\n",
    "main()"
   ]
  },
  {
   "cell_type": "code",
   "execution_count": 47,
   "id": "9094d1ea",
   "metadata": {},
   "outputs": [
    {
     "name": "stdout",
     "output_type": "stream",
     "text": [
      "if the winner is male, my guess is he's from Norway; probability 54.23%\n",
      "if the winner is female, my guess is she's from Iceland; probability 44.84%\n"
     ]
    }
   ],
   "source": [
    "countries = ['Denmark', 'Finland', 'Iceland', 'Norway', 'Sweden']\n",
    "populations = [5615000, 5439000, 324000, 5080000, 9609000]\n",
    "male_fishers = [1822, 2575, 3400, 11291, 1731]\n",
    "female_fishers = [69, 77, 400, 320, 26] \n",
    "\n",
    "def guess(winner_gender):\n",
    "    if winner_gender == 'female':\n",
    "        fishers = female_fishers\n",
    "    else:\n",
    "        fishers = male_fishers\n",
    "\n",
    "    # write your solution here\n",
    "    total_Population = 0\n",
    "    for i in populations:\n",
    "        total_Population += i\n",
    "    fishers_Total = 0\n",
    "    for i in fishers:\n",
    "        fishers_Total += i\n",
    "    j = 0\n",
    "    temp = (populations[0] / total_Population) * (fishers[0] / populations[0])\n",
    "\n",
    "    while j < len(populations):\n",
    "        \n",
    "        if (populations[j] / total_Population) * (fishers[j] / populations[j]) > temp:\n",
    "            temp = (populations[j] / total_Population) * (fishers[j] / populations[j])\n",
    "            guess = countries[j]\n",
    "            biggest = fishers[j] / fishers_Total * 100\n",
    "        j+=1\n",
    "    \n",
    "    return (guess, biggest)  \n",
    "\n",
    "def main():\n",
    "    country, fraction = guess(\"male\")\n",
    "    print(\"if the winner is male, my guess is he's from %s; probability %.2f%%\" % (country, fraction))\n",
    "    country, fraction = guess(\"female\")\n",
    "    print(\"if the winner is female, my guess is she's from %s; probability %.2f%%\" % (country, fraction))\n",
    "\n",
    "main()"
   ]
  },
  {
   "cell_type": "code",
   "execution_count": 52,
   "id": "bdfd7a59",
   "metadata": {},
   "outputs": [
    {
     "name": "stdout",
     "output_type": "stream",
     "text": [
      "2 400\n"
     ]
    }
   ],
   "source": [
    "fishers = [69, 77, 400, 320, 26] \n",
    "total = sum(fishers)\n",
    "max_index = fishers.index(max(fishers))\n",
    "print(max_index,fishers[max_index])"
   ]
  },
  {
   "cell_type": "code",
   "execution_count": 55,
   "id": "ae8c1342",
   "metadata": {},
   "outputs": [
    {
     "data": {
      "text/plain": [
       "8"
      ]
     },
     "execution_count": 55,
     "metadata": {},
     "output_type": "execute_result"
    }
   ],
   "source": [
    "2**3"
   ]
  },
  {
   "cell_type": "code",
   "execution_count": null,
   "id": "aee5df75",
   "metadata": {},
   "outputs": [],
   "source": [
    "The likelihood ratio is \n",
    "r = P(6 | loaded) / P(6 | normal) = (1/2) / (1/6) = 3. \n",
    "If we start with the odds 1:1, \n",
    "the sequence of odds after each roll with the outcome 6 are as follows: \n",
    "3:1, 9:1, 27:1, 81:1, 243:1, ... The fifth one is the first that is 100:1 or higher, \n",
    "so it takes five rolls with the outcome 6 to reach 100:1."
   ]
  },
  {
   "cell_type": "code",
   "execution_count": 58,
   "id": "8ce18150",
   "metadata": {},
   "outputs": [
    {
     "name": "stdout",
     "output_type": "stream",
     "text": [
      "492750\n"
     ]
    }
   ],
   "source": [
    "# input values for one mökkis: size, size of sauna, distance to water, number of indoor bathrooms, \n",
    "# proximity of neighbours\n",
    "\n",
    "x = [155, 15, 5, 1, 200]\n",
    "c = [3000, 200 , -50, 5000, 100]     # coefficient values\n",
    "\n",
    "prediction = c[0]*x[0] + c[1]*x[1] + c[2]*x[2] + c[3]*x[3] + c[4]*x[4]\n",
    "\n",
    "print(prediction)\n"
   ]
  },
  {
   "cell_type": "code",
   "execution_count": 74,
   "id": "75ff7ef3",
   "metadata": {},
   "outputs": [
    {
     "name": "stdout",
     "output_type": "stream",
     "text": [
      "[198000, 1000, -750, 10000, 50000]\n",
      "258250\n",
      "[63000, 600, -2500, 5000, 10000]\n",
      "76100\n",
      "[360000, 3000, -250, 10000, 120000]\n",
      "492750\n"
     ]
    }
   ],
   "source": [
    "# input values for three mökkis: \n",
    "#  - size [m^2], \n",
    "#  - size of the sauna [m^2], \n",
    "#  - distance to water [m], \n",
    "#  - number of indoor bathrooms, \n",
    "#  - proximity of neighbors [m]\n",
    "X = [[66, 5, 15, 2, 500], \n",
    "     [21, 3, 50, 1, 100], \n",
    "     [120, 15, 5, 2, 1200]]\n",
    "\n",
    "\n",
    "c = [3000, 200 , -50, 5000, 100]\n",
    "\n",
    "for i in range(len(X)):\n",
    "    x = X[i]\n",
    "    ls = zip(x,c)\n",
    "    res = []\n",
    "    for num in ls:\n",
    "        res.append(num[0] * num[1])\n",
    "    print(res)\n",
    "    print(sum(map(int,res)))\n",
    "\n",
    "    # write a loop that goes over the cabin data and for each cabin prints out \n",
    "    # the predicted price of the cabin you can assume that the number of inputs\n",
    "    # and the number of coefficients are the same           \n",
    "  \n"
   ]
  },
  {
   "cell_type": "code",
   "execution_count": 75,
   "id": "276a1644",
   "metadata": {},
   "outputs": [
    {
     "data": {
      "text/plain": [
       "array([258250,  76100])"
      ]
     },
     "execution_count": 75,
     "metadata": {},
     "output_type": "execute_result"
    }
   ],
   "source": [
    "import numpy as np\n",
    "x = np.array([[66, 5, 15, 2, 500], \n",
    "              [21, 3, 50, 1, 100]])\n",
    "c = np.array([3000, 200 , -50, 5000, 100])\n",
    "np.dot(x,c)"
   ]
  },
  {
   "cell_type": "code",
   "execution_count": 46,
   "id": "f4786582",
   "metadata": {
    "scrolled": true
   },
   "outputs": [
    {
     "name": "stdout",
     "output_type": "stream",
     "text": [
      "[270250, 70200, 537750]\n",
      "676665000\n",
      "\n"
     ]
    }
   ],
   "source": [
    "import numpy as np\n",
    "X = np.array([[66, 5, 15, 2, 500], \n",
    "              [21, 3, 50, 1, 100], \n",
    "              [120, 15, 5, 2, 1200]])\n",
    "y = np.array([250000, 60000, 525000])\n",
    "c = np.array([3000, -100, -150, 0, 150])    # coefficient values\n",
    "\n",
    "sse = 0.0\n",
    "ls = []\n",
    "for xi,yi in zip(X,y):\n",
    "    a = np.dot(xi,c)\n",
    "    ls.append(a)\n",
    "print(ls)\n",
    "e1 = (ls[0]-y[0])**2\n",
    "e2 = (ls[1]-y[1])**2\n",
    "e3 = (ls[2]-y[2])**2\n",
    "print(e1+e2+e3)\n",
    "    \n",
    "    \n",
    "#     sse = sse + ((xi @ c) - yi)**2 \n",
    "# print(sse)\n",
    "print()\n",
    "    \n",
    "    "
   ]
  },
  {
   "cell_type": "code",
   "execution_count": 52,
   "id": "d4448565",
   "metadata": {},
   "outputs": [
    {
     "name": "stdout",
     "output_type": "stream",
     "text": [
      "[258250  76100 492750]\n",
      "[254550  61400 536050]\n",
      "[270250  70200 537750]\n",
      "(3,)\n"
     ]
    }
   ],
   "source": [
    "import numpy as np\n",
    "\n",
    "# data\n",
    "X = np.array([[66, 5, 15, 2, 500], \n",
    "              [21, 3, 50, 1, 100], \n",
    "              [120, 15, 5, 2, 1200]])\n",
    "y = np.array([250000, 60000, 525000])\n",
    "\n",
    "# alternative sets of coefficient values\n",
    "c = np.array([[3000, 200 , -50, 5000, 100], \n",
    "              [2000, -250, -100, 150, 250], \n",
    "              [3000, -100, -150, 0, 150]])   \n",
    "for cc in c:\n",
    "    a = X @ cc\n",
    "    print(a)\n",
    "print(a.shape)\n",
    "        \n",
    "\n",
    "\n"
   ]
  },
  {
   "cell_type": "code",
   "execution_count": 44,
   "id": "e83875a8",
   "metadata": {},
   "outputs": [
    {
     "name": "stdout",
     "output_type": "stream",
     "text": [
      "the best set is set 1\n",
      "144765000\n"
     ]
    }
   ],
   "source": [
    "import numpy as np\n",
    "\n",
    "# data\n",
    "X = np.array([[66, 5, 15, 2, 500],\n",
    "              [21, 3, 50, 1, 100],\n",
    "              [120, 15, 5, 2, 1200]])\n",
    "y = np.array([250000, 60000, 525000])\n",
    "\n",
    "# alternative sets of coefficient values\n",
    "c = np.array([[3000, 200 , -50, 5000, 100],\n",
    "              [2000, -250, -100, 150, 250],\n",
    "              [3000, -100, -150, 0, 150]])\n",
    "\n",
    "def find_best(X, y, c):\n",
    "    smallest_error = np.Inf\n",
    "    best_index = 0\n",
    "    \n",
    "    x_and_c = []\n",
    "    for coeff in c:\n",
    "        x_and_c.append(X @ coeff)\n",
    "    x_and_X = np.array(x_and_c)\n",
    "    coefficient = []\n",
    "    for i in x_and_X:\n",
    "        coefficient.append([(n - j)**2 for n, j in zip(y, i)])\n",
    "    number = sum(coefficient[0])\n",
    "    for i in coefficient:\n",
    "        \n",
    "        if sum(i)<number:\n",
    "            number = sum(i)\n",
    "            best_index = coefficient.index(i)\n",
    "            smallest_error = sum(coefficient[best_index])\n",
    "\n",
    "\n",
    "    print(\"the best set is set %d\" % best_index)\n",
    "    print(smallest_error)\n",
    "    \n",
    "\n",
    "\n",
    "find_best(X, y, c)\n",
    "\n"
   ]
  },
  {
   "cell_type": "code",
   "execution_count": 49,
   "id": "6fe29613",
   "metadata": {
    "scrolled": true
   },
   "outputs": [
    {
     "name": "stdout",
     "output_type": "stream",
     "text": [
      "827100\n"
     ]
    }
   ],
   "source": [
    "print(258250+76100+492750)"
   ]
  },
  {
   "cell_type": "code",
   "execution_count": null,
   "id": "28b1d355",
   "metadata": {},
   "outputs": [],
   "source": []
  }
 ],
 "metadata": {
  "kernelspec": {
   "display_name": "Python 3 (ipykernel)",
   "language": "python",
   "name": "python3"
  },
  "language_info": {
   "codemirror_mode": {
    "name": "ipython",
    "version": 3
   },
   "file_extension": ".py",
   "mimetype": "text/x-python",
   "name": "python",
   "nbconvert_exporter": "python",
   "pygments_lexer": "ipython3",
   "version": "3.9.12"
  }
 },
 "nbformat": 4,
 "nbformat_minor": 5
}
